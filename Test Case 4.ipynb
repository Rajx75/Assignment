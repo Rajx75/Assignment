{
 "cells": [
  {
   "cell_type": "code",
   "execution_count": 1,
   "id": "a85adf97",
   "metadata": {},
   "outputs": [
    {
     "name": "stderr",
     "output_type": "stream",
     "text": [
      "INFO:root:Testing empty email validation...\n",
      "ERROR:root:Empty email validation failed. Error message not found!\n"
     ]
    }
   ],
   "source": [
    "import logging\n",
    "import time\n",
    "from selenium import webdriver\n",
    "from selenium.webdriver.common.by import By\n",
    "from selenium.webdriver.support.ui import WebDriverWait\n",
    "from selenium.webdriver.support import expected_conditions as EC\n",
    "from selenium.common.exceptions import TimeoutException\n",
    "\n",
    "logging.basicConfig(level=logging.INFO)\n",
    "\n",
    "class BrowserHandler:\n",
    "    chrome_driver = None\n",
    "\n",
    "    @staticmethod\n",
    "    def initialize_browser():\n",
    "        \"\"\"Initialize WebDriver and open the website.\"\"\"\n",
    "        BrowserHandler.chrome_driver = webdriver.Chrome()\n",
    "        BrowserHandler.chrome_driver.maximize_window()\n",
    "        BrowserHandler.chrome_driver.get(\"https://app-staging.nokodr.com/\")\n",
    "\n",
    "    @staticmethod\n",
    "    def shutdown_browser():\n",
    "        \"\"\"Close the browser.\"\"\"\n",
    "        if BrowserHandler.chrome_driver:\n",
    "            BrowserHandler.chrome_driver.quit()\n",
    "\n",
    "class ResetPasswordTests(BrowserHandler):\n",
    "\n",
    "    @staticmethod\n",
    "    def navigate_to_reset():\n",
    "        \"\"\"Navigate to the forgot password page.\"\"\"\n",
    "        BrowserHandler.chrome_driver.get(\"https://app-staging.nokodr.com/\")\n",
    "        wait = WebDriverWait(BrowserHandler.chrome_driver, 10)\n",
    "        forgot_link = (By.LINK_TEXT, \"Forgot Password?\")\n",
    "        wait.until(EC.element_to_be_clickable(forgot_link)).click()\n",
    "        wait.until(EC.presence_of_element_located((By.ID, \"email\")))\n",
    "\n",
    "    @staticmethod\n",
    "    def test_empty_email():\n",
    "        logging.info(\"Testing empty email validation...\")\n",
    "        wait = WebDriverWait(BrowserHandler.chrome_driver, 10)\n",
    "        proceed_button = (By.XPATH, \"//div[@title='Proceed']\")\n",
    "        wait.until(EC.element_to_be_clickable(proceed_button)).click()\n",
    "        try:\n",
    "            error_locator = (By.XPATH, \"//div[contains(@class, 'MuiFormHelperText-root') and contains(@class, 'Mui-error')]\")\n",
    "            error_element = wait.until(EC.visibility_of_element_located(error_locator))\n",
    "            error_text = error_element.text\n",
    "            assert \"Please enter email\" in error_text, f\"Empty email validation failed! Message was: '{error_text}'\"\n",
    "            logging.info(\"Empty email validation passed.\")\n",
    "        except TimeoutException:\n",
    "            logging.error(\"Empty email validation failed. Error message not found!\")\n",
    "\n",
    "if __name__ == \"__main__\":\n",
    "    try:\n",
    "        BrowserHandler.initialize_browser()\n",
    "        ResetPasswordTests.navigate_to_reset()\n",
    "        ResetPasswordTests.test_empty_email()\n",
    "    except Exception as e:\n",
    "        logging.error(f\"Test execution failed: {e}\")\n",
    "    finally:\n",
    "        BrowserHandler.shutdown_browser()\n"
   ]
  },
  {
   "cell_type": "code",
   "execution_count": null,
   "id": "3d817b45",
   "metadata": {},
   "outputs": [],
   "source": []
  }
 ],
 "metadata": {
  "kernelspec": {
   "display_name": "Python 3 (ipykernel)",
   "language": "python",
   "name": "python3"
  },
  "language_info": {
   "codemirror_mode": {
    "name": "ipython",
    "version": 3
   },
   "file_extension": ".py",
   "mimetype": "text/x-python",
   "name": "python",
   "nbconvert_exporter": "python",
   "pygments_lexer": "ipython3",
   "version": "3.11.1"
  }
 },
 "nbformat": 4,
 "nbformat_minor": 5
}
